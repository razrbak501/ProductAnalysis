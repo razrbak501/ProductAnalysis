{
 "cells": [
  {
   "cell_type": "markdown",
   "id": "6470d2d3",
   "metadata": {},
   "source": [
    "DSC680 Week 1-1 <BR>\n",
    "Project 1 <BR>\n",
    "Author Michael Paris <BR>\n",
    "12/08/2022 <BR>"
   ]
  },
  {
   "cell_type": "code",
   "execution_count": 138,
   "id": "b6ae8bad",
   "metadata": {},
   "outputs": [],
   "source": [
    "import pandas as pd\n",
    "import numpy as np\n",
    "import string\n",
    "\n",
    "import nltk\n",
    "from nltk.corpus import stopwords\n",
    "from nltk.tokenize import word_tokenize\n",
    "from nltk.tokenize import sent_tokenize\n",
    "from nltk.stem.porter import PorterStemmer\n",
    "\n",
    "import regex as re\n",
    "\n",
    "from keras.preprocessing.text import Tokenizer\n",
    "from keras.preprocessing.sequence import pad_sequences\n",
    "from keras.models import Sequential\n",
    "from keras.layers import Dense\n",
    "from keras.backend import eval\n",
    "from tensorflow.keras.optimizers import Adam\n",
    "from keras.layers import LSTM\n",
    "from keras.layers.embeddings import Embedding\n",
    "\n",
    "import matplotlib.pyplot as plt\n",
    "import seaborn as sns\n",
    "\n",
    "from sklearn.feature_extraction.text import CountVectorizer\n",
    "from sklearn.model_selection import train_test_split\n",
    "from sklearn.naive_bayes import MultinomialNB\n",
    "from sklearn.metrics import confusion_matrix, classification_report\n",
    "from sklearn.svm import SVC\n",
    "from sklearn.neighbors import KNeighborsClassifier"
   ]
  },
  {
   "cell_type": "code",
   "execution_count": 27,
   "id": "61eb0f4e",
   "metadata": {},
   "outputs": [],
   "source": [
    "product_reviews_df = pd.read_csv('marketing_sample_for_walmart_com-walmart_product_reviews__20200401_20200630__30k_data.csv')"
   ]
  },
  {
   "cell_type": "code",
   "execution_count": 28,
   "id": "9821fe61",
   "metadata": {},
   "outputs": [
    {
     "data": {
      "text/html": [
       "<div>\n",
       "<style scoped>\n",
       "    .dataframe tbody tr th:only-of-type {\n",
       "        vertical-align: middle;\n",
       "    }\n",
       "\n",
       "    .dataframe tbody tr th {\n",
       "        vertical-align: top;\n",
       "    }\n",
       "\n",
       "    .dataframe thead th {\n",
       "        text-align: right;\n",
       "    }\n",
       "</style>\n",
       "<table border=\"1\" class=\"dataframe\">\n",
       "  <thead>\n",
       "    <tr style=\"text-align: right;\">\n",
       "      <th></th>\n",
       "      <th>Uniq Id</th>\n",
       "      <th>Crawl Timestamp</th>\n",
       "      <th>Pageurl</th>\n",
       "      <th>Website</th>\n",
       "      <th>Title</th>\n",
       "      <th>Rating</th>\n",
       "      <th>Review</th>\n",
       "      <th>Reviewer Name</th>\n",
       "      <th>Review Upvotes</th>\n",
       "      <th>Review Downvotes</th>\n",
       "      <th>Verified Purchaser</th>\n",
       "      <th>Recommended Purchase</th>\n",
       "      <th>Review Date</th>\n",
       "      <th>Five Star</th>\n",
       "      <th>Four Star</th>\n",
       "      <th>Three Star</th>\n",
       "      <th>Two Star</th>\n",
       "      <th>One Star</th>\n",
       "    </tr>\n",
       "  </thead>\n",
       "  <tbody>\n",
       "    <tr>\n",
       "      <th>0</th>\n",
       "      <td>1800878dcfa5255c691f2a87ce8b2869</td>\n",
       "      <td>2020-05-16 17:58:33 +0000</td>\n",
       "      <td>https://www.walmart.com/reviews/product/36907838</td>\n",
       "      <td>walmart.com</td>\n",
       "      <td>NaN</td>\n",
       "      <td>1.0</td>\n",
       "      <td>One star for looking nice. That’s it. After tr...</td>\n",
       "      <td>PJ10</td>\n",
       "      <td>0</td>\n",
       "      <td>0</td>\n",
       "      <td>No</td>\n",
       "      <td>No</td>\n",
       "      <td>7/28/2018</td>\n",
       "      <td>23.0</td>\n",
       "      <td>5.0</td>\n",
       "      <td>1.0</td>\n",
       "      <td>3.0</td>\n",
       "      <td>6.0</td>\n",
       "    </tr>\n",
       "    <tr>\n",
       "      <th>1</th>\n",
       "      <td>ac06ca1b77310d539c9a74eed7a8a8e2</td>\n",
       "      <td>2020-04-17 01:05:43 +0000</td>\n",
       "      <td>https://www.walmart.com/reviews/product/708236785</td>\n",
       "      <td>walmart.com</td>\n",
       "      <td>NaN</td>\n",
       "      <td>4.0</td>\n",
       "      <td>Love this phone so far have had it almost a mo...</td>\n",
       "      <td>KelJo</td>\n",
       "      <td>9</td>\n",
       "      <td>3</td>\n",
       "      <td>No</td>\n",
       "      <td>No</td>\n",
       "      <td>11/14/2017</td>\n",
       "      <td>91.0</td>\n",
       "      <td>23.0</td>\n",
       "      <td>13.0</td>\n",
       "      <td>9.0</td>\n",
       "      <td>31.0</td>\n",
       "    </tr>\n",
       "    <tr>\n",
       "      <th>2</th>\n",
       "      <td>9c4b10fff4e5e2cc7e2e1bbed76e2220</td>\n",
       "      <td>2020-06-08 10:35:05 +0000</td>\n",
       "      <td>https://www.walmart.com/reviews/product/831078728</td>\n",
       "      <td>walmart.com</td>\n",
       "      <td>NaN</td>\n",
       "      <td>4.0</td>\n",
       "      <td>This TV is absolutely fantastic. This is my th...</td>\n",
       "      <td>TheBigChalupa11</td>\n",
       "      <td>0</td>\n",
       "      <td>0</td>\n",
       "      <td>Yes</td>\n",
       "      <td>No</td>\n",
       "      <td>5/20/2020</td>\n",
       "      <td>32.0</td>\n",
       "      <td>8.0</td>\n",
       "      <td>1.0</td>\n",
       "      <td>0.0</td>\n",
       "      <td>0.0</td>\n",
       "    </tr>\n",
       "    <tr>\n",
       "      <th>3</th>\n",
       "      <td>b5a5dc8de9fc0468aab961f097b56091</td>\n",
       "      <td>2020-04-13 03:57:29 +0000</td>\n",
       "      <td>https://www.walmart.com/reviews/product/40712755</td>\n",
       "      <td>walmart.com</td>\n",
       "      <td>NaN</td>\n",
       "      <td>5.0</td>\n",
       "      <td>Refurb, good shape, good price, does what I wa...</td>\n",
       "      <td>Micalic</td>\n",
       "      <td>0</td>\n",
       "      <td>0</td>\n",
       "      <td>No</td>\n",
       "      <td>No</td>\n",
       "      <td>7/9/2019</td>\n",
       "      <td>418.0</td>\n",
       "      <td>62.0</td>\n",
       "      <td>17.0</td>\n",
       "      <td>1.0</td>\n",
       "      <td>13.0</td>\n",
       "    </tr>\n",
       "    <tr>\n",
       "      <th>4</th>\n",
       "      <td>430433b52b882e540c16363d448e012b</td>\n",
       "      <td>2020-05-19 03:52:42 +0000</td>\n",
       "      <td>https://www.walmart.com/reviews/product/46597970</td>\n",
       "      <td>walmart.com</td>\n",
       "      <td>NaN</td>\n",
       "      <td>5.0</td>\n",
       "      <td>Very nice tablet! Looks brand new. Fired right...</td>\n",
       "      <td>jcan74</td>\n",
       "      <td>0</td>\n",
       "      <td>0</td>\n",
       "      <td>No</td>\n",
       "      <td>No</td>\n",
       "      <td>2/11/2020</td>\n",
       "      <td>213.0</td>\n",
       "      <td>57.0</td>\n",
       "      <td>25.0</td>\n",
       "      <td>24.0</td>\n",
       "      <td>87.0</td>\n",
       "    </tr>\n",
       "  </tbody>\n",
       "</table>\n",
       "</div>"
      ],
      "text/plain": [
       "                            Uniq Id            Crawl Timestamp  \\\n",
       "0  1800878dcfa5255c691f2a87ce8b2869  2020-05-16 17:58:33 +0000   \n",
       "1  ac06ca1b77310d539c9a74eed7a8a8e2  2020-04-17 01:05:43 +0000   \n",
       "2  9c4b10fff4e5e2cc7e2e1bbed76e2220  2020-06-08 10:35:05 +0000   \n",
       "3  b5a5dc8de9fc0468aab961f097b56091  2020-04-13 03:57:29 +0000   \n",
       "4  430433b52b882e540c16363d448e012b  2020-05-19 03:52:42 +0000   \n",
       "\n",
       "                                             Pageurl      Website Title  \\\n",
       "0   https://www.walmart.com/reviews/product/36907838  walmart.com   NaN   \n",
       "1  https://www.walmart.com/reviews/product/708236785  walmart.com   NaN   \n",
       "2  https://www.walmart.com/reviews/product/831078728  walmart.com   NaN   \n",
       "3   https://www.walmart.com/reviews/product/40712755  walmart.com   NaN   \n",
       "4   https://www.walmart.com/reviews/product/46597970  walmart.com   NaN   \n",
       "\n",
       "   Rating                                             Review    Reviewer Name  \\\n",
       "0     1.0  One star for looking nice. That’s it. After tr...             PJ10   \n",
       "1     4.0  Love this phone so far have had it almost a mo...            KelJo   \n",
       "2     4.0  This TV is absolutely fantastic. This is my th...  TheBigChalupa11   \n",
       "3     5.0  Refurb, good shape, good price, does what I wa...          Micalic   \n",
       "4     5.0  Very nice tablet! Looks brand new. Fired right...           jcan74   \n",
       "\n",
       "   Review Upvotes  Review Downvotes Verified Purchaser Recommended Purchase  \\\n",
       "0               0                 0                 No                   No   \n",
       "1               9                 3                 No                   No   \n",
       "2               0                 0                Yes                   No   \n",
       "3               0                 0                 No                   No   \n",
       "4               0                 0                 No                   No   \n",
       "\n",
       "  Review Date  Five Star  Four Star  Three Star  Two Star  One Star  \n",
       "0   7/28/2018       23.0        5.0         1.0       3.0       6.0  \n",
       "1  11/14/2017       91.0       23.0        13.0       9.0      31.0  \n",
       "2   5/20/2020       32.0        8.0         1.0       0.0       0.0  \n",
       "3    7/9/2019      418.0       62.0        17.0       1.0      13.0  \n",
       "4   2/11/2020      213.0       57.0        25.0      24.0      87.0  "
      ]
     },
     "execution_count": 28,
     "metadata": {},
     "output_type": "execute_result"
    }
   ],
   "source": [
    "product_reviews_df.head()"
   ]
  },
  {
   "cell_type": "code",
   "execution_count": 44,
   "id": "890969e6",
   "metadata": {},
   "outputs": [
    {
     "name": "stdout",
     "output_type": "stream",
     "text": [
      "24617\n",
      "True\n",
      "5380\n",
      "29997\n",
      "False\n",
      "0\n"
     ]
    }
   ],
   "source": [
    "#need to remove any nan from the reviews or ratings\n",
    "print(product_reviews_df['Review'].count())\n",
    "print(product_reviews_df['Review'].isnull().values.any())\n",
    "print(product_reviews_df['Review'].isnull().sum())\n",
    "\n",
    "print(product_reviews_df['Rating'].count())\n",
    "print(product_reviews_df['Rating'].isnull().values.any())\n",
    "print(product_reviews_df['Rating'].isnull().sum())"
   ]
  },
  {
   "cell_type": "code",
   "execution_count": 30,
   "id": "2d7fae44",
   "metadata": {},
   "outputs": [
    {
     "data": {
      "text/plain": [
       "Uniq Id                  object\n",
       "Crawl Timestamp          object\n",
       "Pageurl                  object\n",
       "Website                  object\n",
       "Title                    object\n",
       "Rating                  float64\n",
       "Review                   object\n",
       "Reviewer Name            object\n",
       "Review Upvotes            int64\n",
       "Review Downvotes          int64\n",
       "Verified Purchaser       object\n",
       "Recommended Purchase     object\n",
       "Review Date              object\n",
       "Five Star               float64\n",
       "Four Star               float64\n",
       "Three Star              float64\n",
       "Two Star                float64\n",
       "One Star                float64\n",
       "dtype: object"
      ]
     },
     "execution_count": 30,
     "metadata": {},
     "output_type": "execute_result"
    }
   ],
   "source": [
    "#lets look at the datatypes that have been assigned to each column\n",
    "\n",
    "product_reviews_df.dtypes"
   ]
  },
  {
   "cell_type": "code",
   "execution_count": 46,
   "id": "7dcfa86e",
   "metadata": {},
   "outputs": [],
   "source": [
    "#convert Rating from float to int (there are no reviews of 1.5, etc..)\n",
    "\n",
    "product_reviews_df['Rating'] = product_reviews_df['Rating'].astype(int)"
   ]
  },
  {
   "cell_type": "code",
   "execution_count": 47,
   "id": "34acffeb",
   "metadata": {},
   "outputs": [],
   "source": [
    "#convert the crawl timestamp to datetime\n",
    "#convert verified purchaser to boolean\n",
    "\n",
    "product_reviews_df['Crawl Timestamp'] = pd.to_datetime(product_reviews_df['Crawl Timestamp'])\n",
    "#product_reviews_df['Verified Purchaser'] = product_reviews_df['Verified Purchaser'].astype('bool')"
   ]
  },
  {
   "cell_type": "code",
   "execution_count": 48,
   "id": "8c2e7bad",
   "metadata": {},
   "outputs": [],
   "source": [
    "# remove the timestamp from the date\n",
    "product_reviews_df['Crawl Timestamp'] = product_reviews_df['Crawl Timestamp'].dt.date\n"
   ]
  },
  {
   "cell_type": "code",
   "execution_count": 49,
   "id": "3b7b10f3",
   "metadata": {},
   "outputs": [
    {
     "data": {
      "image/png": "[encoded data removed]",
      "text/plain": [
       "<Figure size 432x288 with 1 Axes>"
      ]
     },
     "metadata": {
      "needs_background": "light"
     },
     "output_type": "display_data"
    }
   ],
   "source": [
    "#lets look at the distribution for when the data was pulled.\n",
    "# we want the data pulled within a reasonable timespan\n",
    "\n",
    "plt.hist(product_reviews_df['Crawl Timestamp'])\n",
    "plt.title('Walmart Review Crawl Timestamp')\n",
    "plt.xlabel('Date')\n",
    "plt.xticks(rotation = 45)\n",
    "plt.ylabel('Distribution')\n",
    "plt.show()"
   ]
  },
  {
   "cell_type": "code",
   "execution_count": 50,
   "id": "afbbf3c2",
   "metadata": {},
   "outputs": [
    {
     "data": {
      "image/png": "[encoded data removed]",
      "text/plain": [
       "<Figure size 432x288 with 1 Axes>"
      ]
     },
     "metadata": {
      "needs_background": "light"
     },
     "output_type": "display_data"
    }
   ],
   "source": [
    "plt.hist(product_reviews_df['Rating'])\n",
    "plt.title('Review Rating')\n",
    "plt.xlabel('Rating')\n",
    "plt.xticks(rotation = 45)\n",
    "plt.ylabel('Distribution')\n",
    "plt.show()"
   ]
  },
  {
   "cell_type": "code",
   "execution_count": 51,
   "id": "03d60246",
   "metadata": {},
   "outputs": [
    {
     "data": {
      "image/png": "[encoded data removed]",
      "text/plain": [
       "<Figure size 432x288 with 1 Axes>"
      ]
     },
     "metadata": {
      "needs_background": "light"
     },
     "output_type": "display_data"
    }
   ],
   "source": [
    "#should we compare the upvotes to downvotes or maybe look at the average?\n",
    "\n",
    "plt.hist(product_reviews_df['Review Upvotes'])\n",
    "plt.title('Review Upvotes')\n",
    "plt.xlabel('Upvotes')\n",
    "plt.xticks(rotation = 45)\n",
    "plt.ylabel('Distribution')\n",
    "plt.show()"
   ]
  },
  {
   "cell_type": "code",
   "execution_count": 52,
   "id": "815897b4",
   "metadata": {
    "scrolled": true
   },
   "outputs": [
    {
     "data": {
      "text/plain": [
       "<AxesSubplot:>"
      ]
     },
     "execution_count": 52,
     "metadata": {},
     "output_type": "execute_result"
    },
    {
     "data": {
      "image/png": "[encoded data removed]",
      "text/plain": [
       "<Figure size 432x288 with 1 Axes>"
      ]
     },
     "metadata": {
      "needs_background": "light"
     },
     "output_type": "display_data"
    }
   ],
   "source": [
    "#should we compare the upvotes to downvotes or maybe look at the average?\n",
    "\n",
    "\n",
    "product_reviews_df['Verified Purchaser'].value_counts().plot.bar()\n",
    "\n",
    "#counts = table1.gt(0).astype(int).sum(axis=0).droplevel(0).reset_index(name='total')\n",
    "\n",
    "#plt.figure(figsize=(9,10))\n",
    "#product_reviews_df.plot(x=product_reviews_df['Verified Purchaser'].value_counts(), kind='bar')\n",
    "#plt.title('Number of Hot Dogs Eaten by Contest Winner')\n",
    "#plt.xlabel('Year')\n",
    "#plt.ylabel('Dogs Eaten')\n",
    "#plt.show()"
   ]
  },
  {
   "cell_type": "code",
   "execution_count": 53,
   "id": "08e7606b",
   "metadata": {},
   "outputs": [
    {
     "data": {
      "image/png": "[encoded data removed]",
      "text/plain": [
       "<Figure size 432x288 with 1 Axes>"
      ]
     },
     "metadata": {},
     "output_type": "display_data"
    }
   ],
   "source": [
    "plt.pie(product_reviews_df['Verified Purchaser'].value_counts(), labels=['True', 'False'], startangle=90)\n",
    "plt.title('Verified Purchaser Distribution')\n",
    "plt.show()\n"
   ]
  },
  {
   "cell_type": "code",
   "execution_count": 54,
   "id": "9a46ef86",
   "metadata": {},
   "outputs": [
    {
     "data": {
      "image/png": "[encoded data removed]",
      "text/plain": [
       "<Figure size 432x288 with 1 Axes>"
      ]
     },
     "metadata": {
      "needs_background": "light"
     },
     "output_type": "display_data"
    }
   ],
   "source": [
    "plt.hist(product_reviews_df['One Star'].value_counts(), alpha=0.5, label='One Star')\n",
    "plt.hist(product_reviews_df['Two Star'].value_counts(), alpha=0.5, label='Two Star')\n",
    "plt.hist(product_reviews_df['Three Star'].value_counts(), alpha=0.5, label='Three Star')\n",
    "plt.hist(product_reviews_df['Four Star'].value_counts(), alpha=0.5, label='Four Star')\n",
    "plt.hist(product_reviews_df['Five Star'].value_counts(), alpha=0.5, label='Five Star')\n",
    "plt.legend()\n",
    "plt.show()"
   ]
  },
  {
   "cell_type": "code",
   "execution_count": null,
   "id": "5d3a72fc",
   "metadata": {},
   "outputs": [],
   "source": []
  },
  {
   "cell_type": "code",
   "execution_count": 55,
   "id": "6d40f734",
   "metadata": {},
   "outputs": [],
   "source": [
    "product_reviews_df_clean=product_reviews_df.dropna(subset=['Review'])"
   ]
  },
  {
   "cell_type": "code",
   "execution_count": 56,
   "id": "7d3c5e05",
   "metadata": {},
   "outputs": [
    {
     "data": {
      "text/html": [
       "<div>\n",
       "<style scoped>\n",
       "    .dataframe tbody tr th:only-of-type {\n",
       "        vertical-align: middle;\n",
       "    }\n",
       "\n",
       "    .dataframe tbody tr th {\n",
       "        vertical-align: top;\n",
       "    }\n",
       "\n",
       "    .dataframe thead th {\n",
       "        text-align: right;\n",
       "    }\n",
       "</style>\n",
       "<table border=\"1\" class=\"dataframe\">\n",
       "  <thead>\n",
       "    <tr style=\"text-align: right;\">\n",
       "      <th></th>\n",
       "      <th>Uniq Id</th>\n",
       "      <th>Crawl Timestamp</th>\n",
       "      <th>Pageurl</th>\n",
       "      <th>Website</th>\n",
       "      <th>Title</th>\n",
       "      <th>Rating</th>\n",
       "      <th>Review</th>\n",
       "      <th>Reviewer Name</th>\n",
       "      <th>Review Upvotes</th>\n",
       "      <th>Review Downvotes</th>\n",
       "      <th>Verified Purchaser</th>\n",
       "      <th>Recommended Purchase</th>\n",
       "      <th>Review Date</th>\n",
       "      <th>Five Star</th>\n",
       "      <th>Four Star</th>\n",
       "      <th>Three Star</th>\n",
       "      <th>Two Star</th>\n",
       "      <th>One Star</th>\n",
       "    </tr>\n",
       "  </thead>\n",
       "  <tbody>\n",
       "    <tr>\n",
       "      <th>0</th>\n",
       "      <td>1800878dcfa5255c691f2a87ce8b2869</td>\n",
       "      <td>2020-05-16</td>\n",
       "      <td>https://www.walmart.com/reviews/product/36907838</td>\n",
       "      <td>walmart.com</td>\n",
       "      <td>NaN</td>\n",
       "      <td>1</td>\n",
       "      <td>One star for looking nice. That’s it. After tr...</td>\n",
       "      <td>PJ10</td>\n",
       "      <td>0</td>\n",
       "      <td>0</td>\n",
       "      <td>No</td>\n",
       "      <td>No</td>\n",
       "      <td>7/28/2018</td>\n",
       "      <td>23.0</td>\n",
       "      <td>5.0</td>\n",
       "      <td>1.0</td>\n",
       "      <td>3.0</td>\n",
       "      <td>6.0</td>\n",
       "    </tr>\n",
       "    <tr>\n",
       "      <th>1</th>\n",
       "      <td>ac06ca1b77310d539c9a74eed7a8a8e2</td>\n",
       "      <td>2020-04-17</td>\n",
       "      <td>https://www.walmart.com/reviews/product/708236785</td>\n",
       "      <td>walmart.com</td>\n",
       "      <td>NaN</td>\n",
       "      <td>4</td>\n",
       "      <td>Love this phone so far have had it almost a mo...</td>\n",
       "      <td>KelJo</td>\n",
       "      <td>9</td>\n",
       "      <td>3</td>\n",
       "      <td>No</td>\n",
       "      <td>No</td>\n",
       "      <td>11/14/2017</td>\n",
       "      <td>91.0</td>\n",
       "      <td>23.0</td>\n",
       "      <td>13.0</td>\n",
       "      <td>9.0</td>\n",
       "      <td>31.0</td>\n",
       "    </tr>\n",
       "    <tr>\n",
       "      <th>2</th>\n",
       "      <td>9c4b10fff4e5e2cc7e2e1bbed76e2220</td>\n",
       "      <td>2020-06-08</td>\n",
       "      <td>https://www.walmart.com/reviews/product/831078728</td>\n",
       "      <td>walmart.com</td>\n",
       "      <td>NaN</td>\n",
       "      <td>4</td>\n",
       "      <td>This TV is absolutely fantastic. This is my th...</td>\n",
       "      <td>TheBigChalupa11</td>\n",
       "      <td>0</td>\n",
       "      <td>0</td>\n",
       "      <td>Yes</td>\n",
       "      <td>No</td>\n",
       "      <td>5/20/2020</td>\n",
       "      <td>32.0</td>\n",
       "      <td>8.0</td>\n",
       "      <td>1.0</td>\n",
       "      <td>0.0</td>\n",
       "      <td>0.0</td>\n",
       "    </tr>\n",
       "    <tr>\n",
       "      <th>3</th>\n",
       "      <td>b5a5dc8de9fc0468aab961f097b56091</td>\n",
       "      <td>2020-04-13</td>\n",
       "      <td>https://www.walmart.com/reviews/product/40712755</td>\n",
       "      <td>walmart.com</td>\n",
       "      <td>NaN</td>\n",
       "      <td>5</td>\n",
       "      <td>Refurb, good shape, good price, does what I wa...</td>\n",
       "      <td>Micalic</td>\n",
       "      <td>0</td>\n",
       "      <td>0</td>\n",
       "      <td>No</td>\n",
       "      <td>No</td>\n",
       "      <td>7/9/2019</td>\n",
       "      <td>418.0</td>\n",
       "      <td>62.0</td>\n",
       "      <td>17.0</td>\n",
       "      <td>1.0</td>\n",
       "      <td>13.0</td>\n",
       "    </tr>\n",
       "    <tr>\n",
       "      <th>4</th>\n",
       "      <td>430433b52b882e540c16363d448e012b</td>\n",
       "      <td>2020-05-19</td>\n",
       "      <td>https://www.walmart.com/reviews/product/46597970</td>\n",
       "      <td>walmart.com</td>\n",
       "      <td>NaN</td>\n",
       "      <td>5</td>\n",
       "      <td>Very nice tablet! Looks brand new. Fired right...</td>\n",
       "      <td>jcan74</td>\n",
       "      <td>0</td>\n",
       "      <td>0</td>\n",
       "      <td>No</td>\n",
       "      <td>No</td>\n",
       "      <td>2/11/2020</td>\n",
       "      <td>213.0</td>\n",
       "      <td>57.0</td>\n",
       "      <td>25.0</td>\n",
       "      <td>24.0</td>\n",
       "      <td>87.0</td>\n",
       "    </tr>\n",
       "  </tbody>\n",
       "</table>\n",
       "</div>"
      ],
      "text/plain": [
       "                            Uniq Id Crawl Timestamp  \\\n",
       "0  1800878dcfa5255c691f2a87ce8b2869      2020-05-16   \n",
       "1  ac06ca1b77310d539c9a74eed7a8a8e2      2020-04-17   \n",
       "2  9c4b10fff4e5e2cc7e2e1bbed76e2220      2020-06-08   \n",
       "3  b5a5dc8de9fc0468aab961f097b56091      2020-04-13   \n",
       "4  430433b52b882e540c16363d448e012b      2020-05-19   \n",
       "\n",
       "                                             Pageurl      Website Title  \\\n",
       "0   https://www.walmart.com/reviews/product/36907838  walmart.com   NaN   \n",
       "1  https://www.walmart.com/reviews/product/708236785  walmart.com   NaN   \n",
       "2  https://www.walmart.com/reviews/product/831078728  walmart.com   NaN   \n",
       "3   https://www.walmart.com/reviews/product/40712755  walmart.com   NaN   \n",
       "4   https://www.walmart.com/reviews/product/46597970  walmart.com   NaN   \n",
       "\n",
       "   Rating                                             Review    Reviewer Name  \\\n",
       "0       1  One star for looking nice. That’s it. After tr...             PJ10   \n",
       "1       4  Love this phone so far have had it almost a mo...            KelJo   \n",
       "2       4  This TV is absolutely fantastic. This is my th...  TheBigChalupa11   \n",
       "3       5  Refurb, good shape, good price, does what I wa...          Micalic   \n",
       "4       5  Very nice tablet! Looks brand new. Fired right...           jcan74   \n",
       "\n",
       "   Review Upvotes  Review Downvotes Verified Purchaser Recommended Purchase  \\\n",
       "0               0                 0                 No                   No   \n",
       "1               9                 3                 No                   No   \n",
       "2               0                 0                Yes                   No   \n",
       "3               0                 0                 No                   No   \n",
       "4               0                 0                 No                   No   \n",
       "\n",
       "  Review Date  Five Star  Four Star  Three Star  Two Star  One Star  \n",
       "0   7/28/2018       23.0        5.0         1.0       3.0       6.0  \n",
       "1  11/14/2017       91.0       23.0        13.0       9.0      31.0  \n",
       "2   5/20/2020       32.0        8.0         1.0       0.0       0.0  \n",
       "3    7/9/2019      418.0       62.0        17.0       1.0      13.0  \n",
       "4   2/11/2020      213.0       57.0        25.0      24.0      87.0  "
      ]
     },
     "execution_count": 56,
     "metadata": {},
     "output_type": "execute_result"
    }
   ],
   "source": [
    "product_reviews_df_clean.head()"
   ]
  },
  {
   "cell_type": "code",
   "execution_count": 57,
   "id": "b4c3007e",
   "metadata": {},
   "outputs": [],
   "source": [
    "product_reviews_df_final = product_reviews_df_clean[['Uniq Id','Pageurl','Rating', 'Review']]"
   ]
  },
  {
   "cell_type": "code",
   "execution_count": 58,
   "id": "00a83276",
   "metadata": {},
   "outputs": [
    {
     "data": {
      "text/html": [
       "<div>\n",
       "<style scoped>\n",
       "    .dataframe tbody tr th:only-of-type {\n",
       "        vertical-align: middle;\n",
       "    }\n",
       "\n",
       "    .dataframe tbody tr th {\n",
       "        vertical-align: top;\n",
       "    }\n",
       "\n",
       "    .dataframe thead th {\n",
       "        text-align: right;\n",
       "    }\n",
       "</style>\n",
       "<table border=\"1\" class=\"dataframe\">\n",
       "  <thead>\n",
       "    <tr style=\"text-align: right;\">\n",
       "      <th></th>\n",
       "      <th>Uniq Id</th>\n",
       "      <th>Pageurl</th>\n",
       "      <th>Rating</th>\n",
       "      <th>Review</th>\n",
       "    </tr>\n",
       "  </thead>\n",
       "  <tbody>\n",
       "    <tr>\n",
       "      <th>0</th>\n",
       "      <td>1800878dcfa5255c691f2a87ce8b2869</td>\n",
       "      <td>https://www.walmart.com/reviews/product/36907838</td>\n",
       "      <td>1</td>\n",
       "      <td>One star for looking nice. That’s it. After tr...</td>\n",
       "    </tr>\n",
       "    <tr>\n",
       "      <th>1</th>\n",
       "      <td>ac06ca1b77310d539c9a74eed7a8a8e2</td>\n",
       "      <td>https://www.walmart.com/reviews/product/708236785</td>\n",
       "      <td>4</td>\n",
       "      <td>Love this phone so far have had it almost a mo...</td>\n",
       "    </tr>\n",
       "    <tr>\n",
       "      <th>2</th>\n",
       "      <td>9c4b10fff4e5e2cc7e2e1bbed76e2220</td>\n",
       "      <td>https://www.walmart.com/reviews/product/831078728</td>\n",
       "      <td>4</td>\n",
       "      <td>This TV is absolutely fantastic. This is my th...</td>\n",
       "    </tr>\n",
       "    <tr>\n",
       "      <th>3</th>\n",
       "      <td>b5a5dc8de9fc0468aab961f097b56091</td>\n",
       "      <td>https://www.walmart.com/reviews/product/40712755</td>\n",
       "      <td>5</td>\n",
       "      <td>Refurb, good shape, good price, does what I wa...</td>\n",
       "    </tr>\n",
       "    <tr>\n",
       "      <th>4</th>\n",
       "      <td>430433b52b882e540c16363d448e012b</td>\n",
       "      <td>https://www.walmart.com/reviews/product/46597970</td>\n",
       "      <td>5</td>\n",
       "      <td>Very nice tablet! Looks brand new. Fired right...</td>\n",
       "    </tr>\n",
       "  </tbody>\n",
       "</table>\n",
       "</div>"
      ],
      "text/plain": [
       "                            Uniq Id  \\\n",
       "0  1800878dcfa5255c691f2a87ce8b2869   \n",
       "1  ac06ca1b77310d539c9a74eed7a8a8e2   \n",
       "2  9c4b10fff4e5e2cc7e2e1bbed76e2220   \n",
       "3  b5a5dc8de9fc0468aab961f097b56091   \n",
       "4  430433b52b882e540c16363d448e012b   \n",
       "\n",
       "                                             Pageurl  Rating  \\\n",
       "0   https://www.walmart.com/reviews/product/36907838       1   \n",
       "1  https://www.walmart.com/reviews/product/708236785       4   \n",
       "2  https://www.walmart.com/reviews/product/831078728       4   \n",
       "3   https://www.walmart.com/reviews/product/40712755       5   \n",
       "4   https://www.walmart.com/reviews/product/46597970       5   \n",
       "\n",
       "                                              Review  \n",
       "0  One star for looking nice. That’s it. After tr...  \n",
       "1  Love this phone so far have had it almost a mo...  \n",
       "2  This TV is absolutely fantastic. This is my th...  \n",
       "3  Refurb, good shape, good price, does what I wa...  \n",
       "4  Very nice tablet! Looks brand new. Fired right...  "
      ]
     },
     "execution_count": 58,
     "metadata": {},
     "output_type": "execute_result"
    }
   ],
   "source": [
    "product_reviews_df_final.head()"
   ]
  },
  {
   "cell_type": "code",
   "execution_count": null,
   "id": "c45a785c",
   "metadata": {},
   "outputs": [],
   "source": []
  },
  {
   "cell_type": "code",
   "execution_count": 61,
   "id": "8e332d84",
   "metadata": {},
   "outputs": [
    {
     "data": {
      "text/plain": [
       "(18090, 4)"
      ]
     },
     "execution_count": 61,
     "metadata": {},
     "output_type": "execute_result"
    }
   ],
   "source": [
    "rating = product_reviews_df_final[(product_reviews_df_final['Rating'] == 1) | (product_reviews_df_final['Rating'] == 5)]\n",
    "rating.shape"
   ]
  },
  {
   "cell_type": "code",
   "execution_count": 62,
   "id": "2e42722c",
   "metadata": {},
   "outputs": [
    {
     "data": {
      "text/html": [
       "<div>\n",
       "<style scoped>\n",
       "    .dataframe tbody tr th:only-of-type {\n",
       "        vertical-align: middle;\n",
       "    }\n",
       "\n",
       "    .dataframe tbody tr th {\n",
       "        vertical-align: top;\n",
       "    }\n",
       "\n",
       "    .dataframe thead th {\n",
       "        text-align: right;\n",
       "    }\n",
       "</style>\n",
       "<table border=\"1\" class=\"dataframe\">\n",
       "  <thead>\n",
       "    <tr style=\"text-align: right;\">\n",
       "      <th></th>\n",
       "      <th>Uniq Id</th>\n",
       "      <th>Pageurl</th>\n",
       "      <th>Rating</th>\n",
       "      <th>Review</th>\n",
       "    </tr>\n",
       "  </thead>\n",
       "  <tbody>\n",
       "    <tr>\n",
       "      <th>0</th>\n",
       "      <td>1800878dcfa5255c691f2a87ce8b2869</td>\n",
       "      <td>https://www.walmart.com/reviews/product/36907838</td>\n",
       "      <td>1</td>\n",
       "      <td>One star for looking nice. That’s it. After tr...</td>\n",
       "    </tr>\n",
       "    <tr>\n",
       "      <th>3</th>\n",
       "      <td>b5a5dc8de9fc0468aab961f097b56091</td>\n",
       "      <td>https://www.walmart.com/reviews/product/40712755</td>\n",
       "      <td>5</td>\n",
       "      <td>Refurb, good shape, good price, does what I wa...</td>\n",
       "    </tr>\n",
       "    <tr>\n",
       "      <th>4</th>\n",
       "      <td>430433b52b882e540c16363d448e012b</td>\n",
       "      <td>https://www.walmart.com/reviews/product/46597970</td>\n",
       "      <td>5</td>\n",
       "      <td>Very nice tablet! Looks brand new. Fired right...</td>\n",
       "    </tr>\n",
       "    <tr>\n",
       "      <th>5</th>\n",
       "      <td>75359904b511a5766a76348a3de2203a</td>\n",
       "      <td>https://www.walmart.com/reviews/product/49987014</td>\n",
       "      <td>5</td>\n",
       "      <td>I purchased it a few months ago because my son...</td>\n",
       "    </tr>\n",
       "    <tr>\n",
       "      <th>6</th>\n",
       "      <td>f9b66f9350b442aa588357a909b0e2b1</td>\n",
       "      <td>https://www.walmart.com/reviews/product/837383635</td>\n",
       "      <td>5</td>\n",
       "      <td>great sound quality.... highly recommend!! Gre...</td>\n",
       "    </tr>\n",
       "  </tbody>\n",
       "</table>\n",
       "</div>"
      ],
      "text/plain": [
       "                            Uniq Id  \\\n",
       "0  1800878dcfa5255c691f2a87ce8b2869   \n",
       "3  b5a5dc8de9fc0468aab961f097b56091   \n",
       "4  430433b52b882e540c16363d448e012b   \n",
       "5  75359904b511a5766a76348a3de2203a   \n",
       "6  f9b66f9350b442aa588357a909b0e2b1   \n",
       "\n",
       "                                             Pageurl  Rating  \\\n",
       "0   https://www.walmart.com/reviews/product/36907838       1   \n",
       "3   https://www.walmart.com/reviews/product/40712755       5   \n",
       "4   https://www.walmart.com/reviews/product/46597970       5   \n",
       "5   https://www.walmart.com/reviews/product/49987014       5   \n",
       "6  https://www.walmart.com/reviews/product/837383635       5   \n",
       "\n",
       "                                              Review  \n",
       "0  One star for looking nice. That’s it. After tr...  \n",
       "3  Refurb, good shape, good price, does what I wa...  \n",
       "4  Very nice tablet! Looks brand new. Fired right...  \n",
       "5  I purchased it a few months ago because my son...  \n",
       "6  great sound quality.... highly recommend!! Gre...  "
      ]
     },
     "execution_count": 62,
     "metadata": {},
     "output_type": "execute_result"
    }
   ],
   "source": [
    "rating.head()"
   ]
  },
  {
   "cell_type": "code",
   "execution_count": 63,
   "id": "a8afe4a1",
   "metadata": {},
   "outputs": [],
   "source": [
    "y = rating['Rating']\n",
    "x = rating['Review'].reset_index()"
   ]
  },
  {
   "cell_type": "code",
   "execution_count": 67,
   "id": "d4a3a2d5",
   "metadata": {},
   "outputs": [
    {
     "name": "stdout",
     "output_type": "stream",
     "text": [
      "0        One star for looking nice. That’s it. After tr...\n",
      "1        Refurb, good shape, good price, does what I wa...\n",
      "2        Very nice tablet! Looks brand new. Fired right...\n",
      "3        I purchased it a few months ago because my son...\n",
      "4        great sound quality.... highly recommend!! Gre...\n",
      "                               ...                        \n",
      "18085    I'm pleased to say that the overall style fit ...\n",
      "18086    My son got it for me for christmas i love it i...\n",
      "18087    Ive had my t.v. since xmas. First thing that w...\n",
      "18088    Good value, quality product, easy to setup, no...\n",
      "18089    Movies long since forgottenabout my Roku about...\n",
      "Name: Review, Length: 18090, dtype: object\n"
     ]
    }
   ],
   "source": [
    "X = x['Review']\n",
    "print(X)"
   ]
  },
  {
   "cell_type": "code",
   "execution_count": 65,
   "id": "fa6920ca",
   "metadata": {},
   "outputs": [],
   "source": [
    "#set up a function to remove punctuation and stop words from the text\n",
    "\n",
    "def process_text(text):\n",
    "    no_puncuation = [char for char in text if char not in string.punctuation]\n",
    "    no_puncuation = ''.join(no_puncuation)\n",
    "    \n",
    "    return [word for word in no_puncuation.split() if word.lower() not in stopwords.words('english')]"
   ]
  },
  {
   "cell_type": "code",
   "execution_count": 68,
   "id": "ec30ac8f",
   "metadata": {},
   "outputs": [],
   "source": [
    "transformer = CountVectorizer(analyzer=process_text).fit(X)"
   ]
  },
  {
   "cell_type": "code",
   "execution_count": 69,
   "id": "60cc6203",
   "metadata": {},
   "outputs": [],
   "source": [
    "review = X[24]"
   ]
  },
  {
   "cell_type": "code",
   "execution_count": 72,
   "id": "d0eda3b0",
   "metadata": {},
   "outputs": [
    {
     "name": "stdout",
     "output_type": "stream",
     "text": [
      "  (0, 296)\t1\n",
      "  (0, 7905)\t1\n",
      "  (0, 9147)\t1\n",
      "  (0, 11186)\t1\n",
      "  (0, 12144)\t1\n",
      "  (0, 12187)\t1\n",
      "  (0, 12628)\t1\n",
      "  (0, 13542)\t1\n",
      "  (0, 15573)\t1\n",
      "  (0, 16861)\t1\n",
      "  (0, 17859)\t1\n",
      "  (0, 22642)\t1\n",
      "  (0, 22656)\t1\n",
      "  (0, 22981)\t1\n",
      "  (0, 23011)\t1\n"
     ]
    }
   ],
   "source": [
    "transform = transformer.transform([review])\n",
    "print(transform)"
   ]
  },
  {
   "cell_type": "code",
   "execution_count": 73,
   "id": "a3176783",
   "metadata": {},
   "outputs": [],
   "source": [
    "X = transformer.transform(X)"
   ]
  },
  {
   "cell_type": "code",
   "execution_count": 79,
   "id": "d3cb12c5",
   "metadata": {},
   "outputs": [],
   "source": [
    "#split up the data into train and test sets\n",
    "\n",
    "X_train, X_test, y_train, y_test = train_test_split(X, y, test_size=0.3, random_state=101)"
   ]
  },
  {
   "cell_type": "code",
   "execution_count": 80,
   "id": "4c9d523e",
   "metadata": {},
   "outputs": [
    {
     "data": {
      "text/html": [
       "<style>#sk-container-id-1 {color: black;background-color: white;}#sk-container-id-1 pre{padding: 0;}#sk-container-id-1 div.sk-toggleable {background-color: white;}#sk-container-id-1 label.sk-toggleable__label {cursor: pointer;display: block;width: 100%;margin-bottom: 0;padding: 0.3em;box-sizing: border-box;text-align: center;}#sk-container-id-1 label.sk-toggleable__label-arrow:before {content: \"▸\";float: left;margin-right: 0.25em;color: #696969;}#sk-container-id-1 label.sk-toggleable__label-arrow:hover:before {color: black;}#sk-container-id-1 div.sk-estimator:hover label.sk-toggleable__label-arrow:before {color: black;}#sk-container-id-1 div.sk-toggleable__content {max-height: 0;max-width: 0;overflow: hidden;text-align: left;background-color: #f0f8ff;}#sk-container-id-1 div.sk-toggleable__content pre {margin: 0.2em;color: black;border-radius: 0.25em;background-color: #f0f8ff;}#sk-container-id-1 input.sk-toggleable__control:checked~div.sk-toggleable__content {max-height: 200px;max-width: 100%;overflow: auto;}#sk-container-id-1 input.sk-toggleable__control:checked~label.sk-toggleable__label-arrow:before {content: \"▾\";}#sk-container-id-1 div.sk-estimator input.sk-toggleable__control:checked~label.sk-toggleable__label {background-color: #d4ebff;}#sk-container-id-1 div.sk-label input.sk-toggleable__control:checked~label.sk-toggleable__label {background-color: #d4ebff;}#sk-container-id-1 input.sk-hidden--visually {border: 0;clip: rect(1px 1px 1px 1px);clip: rect(1px, 1px, 1px, 1px);height: 1px;margin: -1px;overflow: hidden;padding: 0;position: absolute;width: 1px;}#sk-container-id-1 div.sk-estimator {font-family: monospace;background-color: #f0f8ff;border: 1px dotted black;border-radius: 0.25em;box-sizing: border-box;margin-bottom: 0.5em;}#sk-container-id-1 div.sk-estimator:hover {background-color: #d4ebff;}#sk-container-id-1 div.sk-parallel-item::after {content: \"\";width: 100%;border-bottom: 1px solid gray;flex-grow: 1;}#sk-container-id-1 div.sk-label:hover label.sk-toggleable__label {background-color: #d4ebff;}#sk-container-id-1 div.sk-serial::before {content: \"\";position: absolute;border-left: 1px solid gray;box-sizing: border-box;top: 0;bottom: 0;left: 50%;z-index: 0;}#sk-container-id-1 div.sk-serial {display: flex;flex-direction: column;align-items: center;background-color: white;padding-right: 0.2em;padding-left: 0.2em;position: relative;}#sk-container-id-1 div.sk-item {position: relative;z-index: 1;}#sk-container-id-1 div.sk-parallel {display: flex;align-items: stretch;justify-content: center;background-color: white;position: relative;}#sk-container-id-1 div.sk-item::before, #sk-container-id-1 div.sk-parallel-item::before {content: \"\";position: absolute;border-left: 1px solid gray;box-sizing: border-box;top: 0;bottom: 0;left: 50%;z-index: -1;}#sk-container-id-1 div.sk-parallel-item {display: flex;flex-direction: column;z-index: 1;position: relative;background-color: white;}#sk-container-id-1 div.sk-parallel-item:first-child::after {align-self: flex-end;width: 50%;}#sk-container-id-1 div.sk-parallel-item:last-child::after {align-self: flex-start;width: 50%;}#sk-container-id-1 div.sk-parallel-item:only-child::after {width: 0;}#sk-container-id-1 div.sk-dashed-wrapped {border: 1px dashed gray;margin: 0 0.4em 0.5em 0.4em;box-sizing: border-box;padding-bottom: 0.4em;background-color: white;}#sk-container-id-1 div.sk-label label {font-family: monospace;font-weight: bold;display: inline-block;line-height: 1.2em;}#sk-container-id-1 div.sk-label-container {text-align: center;}#sk-container-id-1 div.sk-container {/* jupyter's `normalize.less` sets `[hidden] { display: none; }` but bootstrap.min.css set `[hidden] { display: none !important; }` so we also need the `!important` here to be able to override the default hidden behavior on the sphinx rendered scikit-learn.org. See: https://github.com/scikit-learn/scikit-learn/issues/21755 */display: inline-block !important;position: relative;}#sk-container-id-1 div.sk-text-repr-fallback {display: none;}</style><div id=\"sk-container-id-1\" class=\"sk-top-container\"><div class=\"sk-text-repr-fallback\"><pre>MultinomialNB()</pre><b>In a Jupyter environment, please rerun this cell to show the HTML representation or trust the notebook. <br />On GitHub, the HTML representation is unable to render, please try loading this page with nbviewer.org.</b></div><div class=\"sk-container\" hidden><div class=\"sk-item\"><div class=\"sk-estimator sk-toggleable\"><input class=\"sk-toggleable__control sk-hidden--visually\" id=\"sk-estimator-id-1\" type=\"checkbox\" checked><label for=\"sk-estimator-id-1\" class=\"sk-toggleable__label sk-toggleable__label-arrow\">MultinomialNB</label><div class=\"sk-toggleable__content\"><pre>MultinomialNB()</pre></div></div></div></div></div>"
      ],
      "text/plain": [
       "MultinomialNB()"
      ]
     },
     "execution_count": 80,
     "metadata": {},
     "output_type": "execute_result"
    }
   ],
   "source": [
    "naive_bayes = MultinomialNB()\n",
    "naive_bayes.fit(X_train, y_train)"
   ]
  },
  {
   "cell_type": "code",
   "execution_count": 83,
   "id": "c7291263",
   "metadata": {},
   "outputs": [],
   "source": [
    "#make the predictions\n",
    "\n",
    "nb_prediction = naive_bayes.predict(X_test)"
   ]
  },
  {
   "cell_type": "code",
   "execution_count": 85,
   "id": "65f4a0b9",
   "metadata": {},
   "outputs": [
    {
     "name": "stdout",
     "output_type": "stream",
     "text": [
      "[[ 653  247]\n",
      " [ 115 4412]]\n",
      "\n",
      "\n",
      "              precision    recall  f1-score   support\n",
      "\n",
      "           1       0.85      0.73      0.78       900\n",
      "           5       0.95      0.97      0.96      4527\n",
      "\n",
      "    accuracy                           0.93      5427\n",
      "   macro avg       0.90      0.85      0.87      5427\n",
      "weighted avg       0.93      0.93      0.93      5427\n",
      "\n"
     ]
    },
    {
     "data": {
      "text/plain": [
       "0.9621732606807234"
      ]
     },
     "execution_count": 85,
     "metadata": {},
     "output_type": "execute_result"
    }
   ],
   "source": [
    "#lets look at the confusion matrix\n",
    "\n",
    "print(confusion_matrix(y_test, prediction))\n",
    "print('\\n')\n",
    "print(classification_report(y_test, prediction))\n",
    "naive_bayes.score(X_train, y_train)"
   ]
  },
  {
   "cell_type": "code",
   "execution_count": 87,
   "id": "772648d6",
   "metadata": {},
   "outputs": [],
   "source": [
    "#Support Vector Method\n",
    "\n",
    "support_vector = SVC()\n",
    "support_vector.fit(X_train, y_train) \n"
   ]
  },
  {
   "cell_type": "code",
   "execution_count": 88,
   "id": "c3f9ef32",
   "metadata": {},
   "outputs": [],
   "source": [
    "sv_prediction=support_vector.predict(X_test)"
   ]
  },
  {
   "cell_type": "code",
   "execution_count": 89,
   "id": "b3a07476",
   "metadata": {},
   "outputs": [
    {
     "name": "stdout",
     "output_type": "stream",
     "text": [
      "[[ 517  383]\n",
      " [  51 4476]]\n",
      "\n",
      "\n",
      "              precision    recall  f1-score   support\n",
      "\n",
      "           1       0.91      0.57      0.70       900\n",
      "           5       0.92      0.99      0.95      4527\n",
      "\n",
      "    accuracy                           0.92      5427\n",
      "   macro avg       0.92      0.78      0.83      5427\n",
      "weighted avg       0.92      0.92      0.91      5427\n",
      "\n"
     ]
    },
    {
     "data": {
      "text/plain": [
       "0.9764668719892601"
      ]
     },
     "execution_count": 89,
     "metadata": {},
     "output_type": "execute_result"
    }
   ],
   "source": [
    "# Confusion Matrx - should put this in a function to not copy it multiple times.\n",
    "\n",
    "print(confusion_matrix(y_test, sv_prediction))\n",
    "print('\\n')\n",
    "print(classification_report(y_test, sv_prediction))\n",
    "support_vector.score(X_train, y_train)"
   ]
  },
  {
   "cell_type": "code",
   "execution_count": 91,
   "id": "74a7db45",
   "metadata": {},
   "outputs": [
    {
     "data": {
      "text/html": [
       "<style>#sk-container-id-2 {color: black;background-color: white;}#sk-container-id-2 pre{padding: 0;}#sk-container-id-2 div.sk-toggleable {background-color: white;}#sk-container-id-2 label.sk-toggleable__label {cursor: pointer;display: block;width: 100%;margin-bottom: 0;padding: 0.3em;box-sizing: border-box;text-align: center;}#sk-container-id-2 label.sk-toggleable__label-arrow:before {content: \"▸\";float: left;margin-right: 0.25em;color: #696969;}#sk-container-id-2 label.sk-toggleable__label-arrow:hover:before {color: black;}#sk-container-id-2 div.sk-estimator:hover label.sk-toggleable__label-arrow:before {color: black;}#sk-container-id-2 div.sk-toggleable__content {max-height: 0;max-width: 0;overflow: hidden;text-align: left;background-color: #f0f8ff;}#sk-container-id-2 div.sk-toggleable__content pre {margin: 0.2em;color: black;border-radius: 0.25em;background-color: #f0f8ff;}#sk-container-id-2 input.sk-toggleable__control:checked~div.sk-toggleable__content {max-height: 200px;max-width: 100%;overflow: auto;}#sk-container-id-2 input.sk-toggleable__control:checked~label.sk-toggleable__label-arrow:before {content: \"▾\";}#sk-container-id-2 div.sk-estimator input.sk-toggleable__control:checked~label.sk-toggleable__label {background-color: #d4ebff;}#sk-container-id-2 div.sk-label input.sk-toggleable__control:checked~label.sk-toggleable__label {background-color: #d4ebff;}#sk-container-id-2 input.sk-hidden--visually {border: 0;clip: rect(1px 1px 1px 1px);clip: rect(1px, 1px, 1px, 1px);height: 1px;margin: -1px;overflow: hidden;padding: 0;position: absolute;width: 1px;}#sk-container-id-2 div.sk-estimator {font-family: monospace;background-color: #f0f8ff;border: 1px dotted black;border-radius: 0.25em;box-sizing: border-box;margin-bottom: 0.5em;}#sk-container-id-2 div.sk-estimator:hover {background-color: #d4ebff;}#sk-container-id-2 div.sk-parallel-item::after {content: \"\";width: 100%;border-bottom: 1px solid gray;flex-grow: 1;}#sk-container-id-2 div.sk-label:hover label.sk-toggleable__label {background-color: #d4ebff;}#sk-container-id-2 div.sk-serial::before {content: \"\";position: absolute;border-left: 1px solid gray;box-sizing: border-box;top: 0;bottom: 0;left: 50%;z-index: 0;}#sk-container-id-2 div.sk-serial {display: flex;flex-direction: column;align-items: center;background-color: white;padding-right: 0.2em;padding-left: 0.2em;position: relative;}#sk-container-id-2 div.sk-item {position: relative;z-index: 1;}#sk-container-id-2 div.sk-parallel {display: flex;align-items: stretch;justify-content: center;background-color: white;position: relative;}#sk-container-id-2 div.sk-item::before, #sk-container-id-2 div.sk-parallel-item::before {content: \"\";position: absolute;border-left: 1px solid gray;box-sizing: border-box;top: 0;bottom: 0;left: 50%;z-index: -1;}#sk-container-id-2 div.sk-parallel-item {display: flex;flex-direction: column;z-index: 1;position: relative;background-color: white;}#sk-container-id-2 div.sk-parallel-item:first-child::after {align-self: flex-end;width: 50%;}#sk-container-id-2 div.sk-parallel-item:last-child::after {align-self: flex-start;width: 50%;}#sk-container-id-2 div.sk-parallel-item:only-child::after {width: 0;}#sk-container-id-2 div.sk-dashed-wrapped {border: 1px dashed gray;margin: 0 0.4em 0.5em 0.4em;box-sizing: border-box;padding-bottom: 0.4em;background-color: white;}#sk-container-id-2 div.sk-label label {font-family: monospace;font-weight: bold;display: inline-block;line-height: 1.2em;}#sk-container-id-2 div.sk-label-container {text-align: center;}#sk-container-id-2 div.sk-container {/* jupyter's `normalize.less` sets `[hidden] { display: none; }` but bootstrap.min.css set `[hidden] { display: none !important; }` so we also need the `!important` here to be able to override the default hidden behavior on the sphinx rendered scikit-learn.org. See: https://github.com/scikit-learn/scikit-learn/issues/21755 */display: inline-block !important;position: relative;}#sk-container-id-2 div.sk-text-repr-fallback {display: none;}</style><div id=\"sk-container-id-2\" class=\"sk-top-container\"><div class=\"sk-text-repr-fallback\"><pre>KNeighborsClassifier(n_neighbors=3)</pre><b>In a Jupyter environment, please rerun this cell to show the HTML representation or trust the notebook. <br />On GitHub, the HTML representation is unable to render, please try loading this page with nbviewer.org.</b></div><div class=\"sk-container\" hidden><div class=\"sk-item\"><div class=\"sk-estimator sk-toggleable\"><input class=\"sk-toggleable__control sk-hidden--visually\" id=\"sk-estimator-id-2\" type=\"checkbox\" checked><label for=\"sk-estimator-id-2\" class=\"sk-toggleable__label sk-toggleable__label-arrow\">KNeighborsClassifier</label><div class=\"sk-toggleable__content\"><pre>KNeighborsClassifier(n_neighbors=3)</pre></div></div></div></div></div>"
      ],
      "text/plain": [
       "KNeighborsClassifier(n_neighbors=3)"
      ]
     },
     "execution_count": 91,
     "metadata": {},
     "output_type": "execute_result"
    }
   ],
   "source": [
    "#run k neighbor with 3 neighbors\n",
    "\n",
    "K_Neighbor = KNeighborsClassifier(n_neighbors=3)\n",
    "K_Neighbor.fit(X, y) "
   ]
  },
  {
   "cell_type": "code",
   "execution_count": 92,
   "id": "f4cc5e1d",
   "metadata": {},
   "outputs": [],
   "source": [
    "K_prediction = K_Neighbor.predict(X_test)"
   ]
  },
  {
   "cell_type": "code",
   "execution_count": 95,
   "id": "5ff7f833",
   "metadata": {},
   "outputs": [
    {
     "name": "stdout",
     "output_type": "stream",
     "text": [
      "[[ 337  563]\n",
      " [  22 4505]]\n",
      "\n",
      "\n",
      "              precision    recall  f1-score   support\n",
      "\n",
      "           1       0.94      0.37      0.54       900\n",
      "           5       0.89      1.00      0.94      4527\n",
      "\n",
      "    accuracy                           0.89      5427\n",
      "   macro avg       0.91      0.68      0.74      5427\n",
      "weighted avg       0.90      0.89      0.87      5427\n",
      "\n"
     ]
    },
    {
     "data": {
      "text/plain": [
       "0.8953644476032536"
      ]
     },
     "execution_count": 95,
     "metadata": {},
     "output_type": "execute_result"
    }
   ],
   "source": [
    "# confusion matrix\n",
    "\n",
    "print(confusion_matrix(y_test, K_prediction))\n",
    "print('\\n')\n",
    "print(classification_report(y_test, K_prediction))\n",
    "K_Neighbor.score(X_train, y_train)"
   ]
  },
  {
   "cell_type": "code",
   "execution_count": 103,
   "id": "ee4da675",
   "metadata": {},
   "outputs": [
    {
     "name": "stderr",
     "output_type": "stream",
     "text": [
      "C:\\Users\\mpari\\AppData\\Local\\Temp\\ipykernel_7608\\3460133739.py:1: SettingWithCopyWarning: \n",
      "A value is trying to be set on a copy of a slice from a DataFrame.\n",
      "Try using .loc[row_indexer,col_indexer] = value instead\n",
      "\n",
      "See the caveats in the documentation: https://pandas.pydata.org/pandas-docs/stable/user_guide/indexing.html#returning-a-view-versus-a-copy\n",
      "  product_reviews_df_final['labeled_rating'] = ['1' if star >= 3 else '0' for star in product_reviews_df_final['Rating']]\n"
     ]
    }
   ],
   "source": [
    "#anything 3 or better will be considered positive(1), less than 3 is negative (0)\n",
    "\n",
    "product_reviews_df_final['labeled_rating'] = ['1' if star >= 3 else '0' for star in product_reviews_df_final['Rating']]"
   ]
  },
  {
   "cell_type": "code",
   "execution_count": 104,
   "id": "5afe4837",
   "metadata": {},
   "outputs": [
    {
     "data": {
      "text/html": [
       "<div>\n",
       "<style scoped>\n",
       "    .dataframe tbody tr th:only-of-type {\n",
       "        vertical-align: middle;\n",
       "    }\n",
       "\n",
       "    .dataframe tbody tr th {\n",
       "        vertical-align: top;\n",
       "    }\n",
       "\n",
       "    .dataframe thead th {\n",
       "        text-align: right;\n",
       "    }\n",
       "</style>\n",
       "<table border=\"1\" class=\"dataframe\">\n",
       "  <thead>\n",
       "    <tr style=\"text-align: right;\">\n",
       "      <th></th>\n",
       "      <th>Uniq Id</th>\n",
       "      <th>Pageurl</th>\n",
       "      <th>Rating</th>\n",
       "      <th>Review</th>\n",
       "      <th>tokenized_review</th>\n",
       "      <th>labeled_rating</th>\n",
       "    </tr>\n",
       "  </thead>\n",
       "  <tbody>\n",
       "    <tr>\n",
       "      <th>0</th>\n",
       "      <td>1800878dcfa5255c691f2a87ce8b2869</td>\n",
       "      <td>https://www.walmart.com/reviews/product/36907838</td>\n",
       "      <td>1</td>\n",
       "      <td>One star for looking nice. That’s it. After tr...</td>\n",
       "      <td>[one, star, look, nice, that, tri, tri, par, i...</td>\n",
       "      <td>0</td>\n",
       "    </tr>\n",
       "    <tr>\n",
       "      <th>1</th>\n",
       "      <td>ac06ca1b77310d539c9a74eed7a8a8e2</td>\n",
       "      <td>https://www.walmart.com/reviews/product/708236785</td>\n",
       "      <td>4</td>\n",
       "      <td>Love this phone so far have had it almost a mo...</td>\n",
       "      <td>[love, phone, far, almost, month, bad, problem...</td>\n",
       "      <td>1</td>\n",
       "    </tr>\n",
       "    <tr>\n",
       "      <th>2</th>\n",
       "      <td>9c4b10fff4e5e2cc7e2e1bbed76e2220</td>\n",
       "      <td>https://www.walmart.com/reviews/product/831078728</td>\n",
       "      <td>4</td>\n",
       "      <td>This TV is absolutely fantastic. This is my th...</td>\n",
       "      <td>[tv, absolut, fantast, third, 4k, tv, blow, aw...</td>\n",
       "      <td>1</td>\n",
       "    </tr>\n",
       "    <tr>\n",
       "      <th>3</th>\n",
       "      <td>b5a5dc8de9fc0468aab961f097b56091</td>\n",
       "      <td>https://www.walmart.com/reviews/product/40712755</td>\n",
       "      <td>5</td>\n",
       "      <td>Refurb, good shape, good price, does what I wa...</td>\n",
       "      <td>[refurb, good, shape, good, price, want]</td>\n",
       "      <td>1</td>\n",
       "    </tr>\n",
       "    <tr>\n",
       "      <th>4</th>\n",
       "      <td>430433b52b882e540c16363d448e012b</td>\n",
       "      <td>https://www.walmart.com/reviews/product/46597970</td>\n",
       "      <td>5</td>\n",
       "      <td>Very nice tablet! Looks brand new. Fired right...</td>\n",
       "      <td>[nice, tablet, look, brand, new, fire, right, ...</td>\n",
       "      <td>1</td>\n",
       "    </tr>\n",
       "  </tbody>\n",
       "</table>\n",
       "</div>"
      ],
      "text/plain": [
       "                            Uniq Id  \\\n",
       "0  1800878dcfa5255c691f2a87ce8b2869   \n",
       "1  ac06ca1b77310d539c9a74eed7a8a8e2   \n",
       "2  9c4b10fff4e5e2cc7e2e1bbed76e2220   \n",
       "3  b5a5dc8de9fc0468aab961f097b56091   \n",
       "4  430433b52b882e540c16363d448e012b   \n",
       "\n",
       "                                             Pageurl  Rating  \\\n",
       "0   https://www.walmart.com/reviews/product/36907838       1   \n",
       "1  https://www.walmart.com/reviews/product/708236785       4   \n",
       "2  https://www.walmart.com/reviews/product/831078728       4   \n",
       "3   https://www.walmart.com/reviews/product/40712755       5   \n",
       "4   https://www.walmart.com/reviews/product/46597970       5   \n",
       "\n",
       "                                              Review  \\\n",
       "0  One star for looking nice. That’s it. After tr...   \n",
       "1  Love this phone so far have had it almost a mo...   \n",
       "2  This TV is absolutely fantastic. This is my th...   \n",
       "3  Refurb, good shape, good price, does what I wa...   \n",
       "4  Very nice tablet! Looks brand new. Fired right...   \n",
       "\n",
       "                                    tokenized_review labeled_rating  \n",
       "0  [one, star, look, nice, that, tri, tri, par, i...              0  \n",
       "1  [love, phone, far, almost, month, bad, problem...              1  \n",
       "2  [tv, absolut, fantast, third, 4k, tv, blow, aw...              1  \n",
       "3           [refurb, good, shape, good, price, want]              1  \n",
       "4  [nice, tablet, look, brand, new, fire, right, ...              1  "
      ]
     },
     "execution_count": 104,
     "metadata": {},
     "output_type": "execute_result"
    }
   ],
   "source": [
    "product_reviews_df_final.head()"
   ]
  },
  {
   "cell_type": "code",
   "execution_count": null,
   "id": "7d04f047",
   "metadata": {},
   "outputs": [],
   "source": [
    "stop_words = set(stopwords.words('english'))"
   ]
  },
  {
   "cell_type": "code",
   "execution_count": 100,
   "id": "a91922ea",
   "metadata": {},
   "outputs": [
    {
     "name": "stderr",
     "output_type": "stream",
     "text": [
      "C:\\Users\\mpari\\AppData\\Local\\Temp\\ipykernel_7608\\2410548894.py:4: SettingWithCopyWarning: \n",
      "A value is trying to be set on a copy of a slice from a DataFrame.\n",
      "Try using .loc[row_indexer,col_indexer] = value instead\n",
      "\n",
      "See the caveats in the documentation: https://pandas.pydata.org/pandas-docs/stable/user_guide/indexing.html#returning-a-view-versus-a-copy\n",
      "  product_reviews_df_final['tokenized_review'] = ''\n",
      "C:\\Users\\mpari\\AppData\\Local\\Temp\\ipykernel_7608\\2410548894.py:5: SettingWithCopyWarning: \n",
      "A value is trying to be set on a copy of a slice from a DataFrame.\n",
      "Try using .loc[row_indexer,col_indexer] = value instead\n",
      "\n",
      "See the caveats in the documentation: https://pandas.pydata.org/pandas-docs/stable/user_guide/indexing.html#returning-a-view-versus-a-copy\n",
      "  product_reviews_df_final['tokenized_review'] = product_reviews_df_final['Review'].str.lower()\n",
      "C:\\Users\\mpari\\AppData\\Local\\Temp\\ipykernel_7608\\2410548894.py:6: FutureWarning: The default value of regex will change from True to False in a future version.\n",
      "  product_reviews_df_final['tokenized_review'] = product_reviews_df_final['tokenized_review'].str.replace('[^\\w\\s]','')\n",
      "C:\\Users\\mpari\\AppData\\Local\\Temp\\ipykernel_7608\\2410548894.py:6: SettingWithCopyWarning: \n",
      "A value is trying to be set on a copy of a slice from a DataFrame.\n",
      "Try using .loc[row_indexer,col_indexer] = value instead\n",
      "\n",
      "See the caveats in the documentation: https://pandas.pydata.org/pandas-docs/stable/user_guide/indexing.html#returning-a-view-versus-a-copy\n",
      "  product_reviews_df_final['tokenized_review'] = product_reviews_df_final['tokenized_review'].str.replace('[^\\w\\s]','')\n",
      "C:\\Users\\mpari\\AppData\\Local\\Temp\\ipykernel_7608\\2410548894.py:7: SettingWithCopyWarning: \n",
      "A value is trying to be set on a copy of a slice from a DataFrame.\n",
      "Try using .loc[row_indexer,col_indexer] = value instead\n",
      "\n",
      "See the caveats in the documentation: https://pandas.pydata.org/pandas-docs/stable/user_guide/indexing.html#returning-a-view-versus-a-copy\n",
      "  product_reviews_df_final['tokenized_review'] = product_reviews_df_final['tokenized_review'].apply(word_tokenize)\n",
      "C:\\Users\\mpari\\AppData\\Local\\Temp\\ipykernel_7608\\2410548894.py:8: SettingWithCopyWarning: \n",
      "A value is trying to be set on a copy of a slice from a DataFrame.\n",
      "Try using .loc[row_indexer,col_indexer] = value instead\n",
      "\n",
      "See the caveats in the documentation: https://pandas.pydata.org/pandas-docs/stable/user_guide/indexing.html#returning-a-view-versus-a-copy\n",
      "  product_reviews_df_final['tokenized_review'] = product_reviews_df_final['tokenized_review'].apply(lambda x: [word for word in x if word not in stop_words])\n",
      "C:\\Users\\mpari\\AppData\\Local\\Temp\\ipykernel_7608\\2410548894.py:9: SettingWithCopyWarning: \n",
      "A value is trying to be set on a copy of a slice from a DataFrame.\n",
      "Try using .loc[row_indexer,col_indexer] = value instead\n",
      "\n",
      "See the caveats in the documentation: https://pandas.pydata.org/pandas-docs/stable/user_guide/indexing.html#returning-a-view-versus-a-copy\n",
      "  product_reviews_df_final['tokenized_review'] = product_reviews_df_final['tokenized_review'].apply(lambda x: [porter.stem(word) for word in x])\n"
     ]
    }
   ],
   "source": [
    "#adding a new column to the dataframe to hold the cleaned and tokenized review\n",
    "porter = PorterStemmer()\n",
    "\n",
    "product_reviews_df_final['tokenized_review'] = ''\n",
    "product_reviews_df_final['tokenized_review'] = product_reviews_df_final['Review'].str.lower()\n",
    "product_reviews_df_final['tokenized_review'] = product_reviews_df_final['tokenized_review'].str.replace('[^\\w\\s]','')\n",
    "product_reviews_df_final['tokenized_review'] = product_reviews_df_final['tokenized_review'].apply(word_tokenize)\n",
    "product_reviews_df_final['tokenized_review'] = product_reviews_df_final['tokenized_review'].apply(lambda x: [word for word in x if word not in stop_words])\n",
    "product_reviews_df_final['tokenized_review'] = product_reviews_df_final['tokenized_review'].apply(lambda x: [porter.stem(word) for word in x])\n"
   ]
  },
  {
   "cell_type": "code",
   "execution_count": 101,
   "id": "da68aeef",
   "metadata": {},
   "outputs": [
    {
     "data": {
      "text/html": [
       "<div>\n",
       "<style scoped>\n",
       "    .dataframe tbody tr th:only-of-type {\n",
       "        vertical-align: middle;\n",
       "    }\n",
       "\n",
       "    .dataframe tbody tr th {\n",
       "        vertical-align: top;\n",
       "    }\n",
       "\n",
       "    .dataframe thead th {\n",
       "        text-align: right;\n",
       "    }\n",
       "</style>\n",
       "<table border=\"1\" class=\"dataframe\">\n",
       "  <thead>\n",
       "    <tr style=\"text-align: right;\">\n",
       "      <th></th>\n",
       "      <th>Uniq Id</th>\n",
       "      <th>Pageurl</th>\n",
       "      <th>Rating</th>\n",
       "      <th>Review</th>\n",
       "      <th>tokenized_review</th>\n",
       "    </tr>\n",
       "  </thead>\n",
       "  <tbody>\n",
       "    <tr>\n",
       "      <th>0</th>\n",
       "      <td>1800878dcfa5255c691f2a87ce8b2869</td>\n",
       "      <td>https://www.walmart.com/reviews/product/36907838</td>\n",
       "      <td>1</td>\n",
       "      <td>One star for looking nice. That’s it. After tr...</td>\n",
       "      <td>[one, star, look, nice, that, tri, tri, par, i...</td>\n",
       "    </tr>\n",
       "    <tr>\n",
       "      <th>1</th>\n",
       "      <td>ac06ca1b77310d539c9a74eed7a8a8e2</td>\n",
       "      <td>https://www.walmart.com/reviews/product/708236785</td>\n",
       "      <td>4</td>\n",
       "      <td>Love this phone so far have had it almost a mo...</td>\n",
       "      <td>[love, phone, far, almost, month, bad, problem...</td>\n",
       "    </tr>\n",
       "    <tr>\n",
       "      <th>2</th>\n",
       "      <td>9c4b10fff4e5e2cc7e2e1bbed76e2220</td>\n",
       "      <td>https://www.walmart.com/reviews/product/831078728</td>\n",
       "      <td>4</td>\n",
       "      <td>This TV is absolutely fantastic. This is my th...</td>\n",
       "      <td>[tv, absolut, fantast, third, 4k, tv, blow, aw...</td>\n",
       "    </tr>\n",
       "    <tr>\n",
       "      <th>3</th>\n",
       "      <td>b5a5dc8de9fc0468aab961f097b56091</td>\n",
       "      <td>https://www.walmart.com/reviews/product/40712755</td>\n",
       "      <td>5</td>\n",
       "      <td>Refurb, good shape, good price, does what I wa...</td>\n",
       "      <td>[refurb, good, shape, good, price, want]</td>\n",
       "    </tr>\n",
       "    <tr>\n",
       "      <th>4</th>\n",
       "      <td>430433b52b882e540c16363d448e012b</td>\n",
       "      <td>https://www.walmart.com/reviews/product/46597970</td>\n",
       "      <td>5</td>\n",
       "      <td>Very nice tablet! Looks brand new. Fired right...</td>\n",
       "      <td>[nice, tablet, look, brand, new, fire, right, ...</td>\n",
       "    </tr>\n",
       "  </tbody>\n",
       "</table>\n",
       "</div>"
      ],
      "text/plain": [
       "                            Uniq Id  \\\n",
       "0  1800878dcfa5255c691f2a87ce8b2869   \n",
       "1  ac06ca1b77310d539c9a74eed7a8a8e2   \n",
       "2  9c4b10fff4e5e2cc7e2e1bbed76e2220   \n",
       "3  b5a5dc8de9fc0468aab961f097b56091   \n",
       "4  430433b52b882e540c16363d448e012b   \n",
       "\n",
       "                                             Pageurl  Rating  \\\n",
       "0   https://www.walmart.com/reviews/product/36907838       1   \n",
       "1  https://www.walmart.com/reviews/product/708236785       4   \n",
       "2  https://www.walmart.com/reviews/product/831078728       4   \n",
       "3   https://www.walmart.com/reviews/product/40712755       5   \n",
       "4   https://www.walmart.com/reviews/product/46597970       5   \n",
       "\n",
       "                                              Review  \\\n",
       "0  One star for looking nice. That’s it. After tr...   \n",
       "1  Love this phone so far have had it almost a mo...   \n",
       "2  This TV is absolutely fantastic. This is my th...   \n",
       "3  Refurb, good shape, good price, does what I wa...   \n",
       "4  Very nice tablet! Looks brand new. Fired right...   \n",
       "\n",
       "                                    tokenized_review  \n",
       "0  [one, star, look, nice, that, tri, tri, par, i...  \n",
       "1  [love, phone, far, almost, month, bad, problem...  \n",
       "2  [tv, absolut, fantast, third, 4k, tv, blow, aw...  \n",
       "3           [refurb, good, shape, good, price, want]  \n",
       "4  [nice, tablet, look, brand, new, fire, right, ...  "
      ]
     },
     "execution_count": 101,
     "metadata": {},
     "output_type": "execute_result"
    }
   ],
   "source": [
    "product_reviews_df_final.head()"
   ]
  },
  {
   "cell_type": "code",
   "execution_count": 117,
   "id": "daf63d77",
   "metadata": {},
   "outputs": [],
   "source": [
    "reviews = product_reviews_df_final['Review']\n",
    "labels = product_reviews_df_final['labeled_rating']"
   ]
  },
  {
   "cell_type": "code",
   "execution_count": 120,
   "id": "01e8d372",
   "metadata": {},
   "outputs": [],
   "source": [
    "def clean_document(doco):\n",
    "    punctuation = string.punctuation\n",
    "    punc_replace = ''.join([' ' for s in punctuation])\n",
    "    doco_link_clean = re.sub(r'http\\S+', '', doco)\n",
    "    doco_clean_and = re.sub(r'&\\S+', '', doco_link_clean)\n",
    "    doco_clean_at = re.sub(r'@\\S+', '', doco_clean_and)\n",
    "    doco_clean = doco_clean_at.replace('-', ' ')\n",
    "    doco_alphas = re.sub(r'\\W +', ' ', doco_clean)\n",
    "    trans_table = str.maketrans(punctuation, punc_replace)\n",
    "    doco_clean = ' '.join([word.translate(trans_table) for word in doco_alphas.split(' ')])\n",
    "    doco_clean = doco_clean.split(' ')\n",
    "    p = re.compile(r'\\s*\\b(?=[a-z\\d]*([a-z\\d])\\1{3}|\\d+\\b)[a-z\\d]+', re.IGNORECASE)\n",
    "    doco_clean = ([p.sub(\"\", x).strip() for x in doco_clean])\n",
    "    doco_clean = [word.lower() for word in doco_clean if len(word) > 2]\n",
    "    doco_clean = ([i for i in doco_clean if i not in stop_words])\n",
    "#     doco_clean = [spell(word) for word in doco_clean]\n",
    "#     p = re.compile(r'\\s*\\b(?=[a-z\\d]*([a-z\\d])\\1{3}|\\d+\\b)[a-z\\d]+', re.IGNORECASE)\n",
    "    doco_clean = ([p.sub(\"\", x).strip() for x in doco_clean])\n",
    "#     doco_clean = ([spell(k) for k in doco_clean])\n",
    "    return doco_clean"
   ]
  },
  {
   "cell_type": "code",
   "execution_count": 121,
   "id": "4e54430d",
   "metadata": {},
   "outputs": [],
   "source": [
    "review_cleans = [clean_document(doc) for doc in reviews];\n",
    "sentences = [' '.join(r) for r in review_cleans ]"
   ]
  },
  {
   "cell_type": "code",
   "execution_count": 124,
   "id": "52694e3c",
   "metadata": {},
   "outputs": [],
   "source": [
    "tokenizer = Tokenizer()\n",
    "tokenizer.fit_on_texts(sentences)"
   ]
  },
  {
   "cell_type": "code",
   "execution_count": 125,
   "id": "cf393f8d",
   "metadata": {},
   "outputs": [
    {
     "name": "stderr",
     "output_type": "stream",
     "text": [
      "C:\\Users\\mpari\\AppData\\Local\\Temp\\ipykernel_7608\\2688887180.py:1: VisibleDeprecationWarning: Creating an ndarray from ragged nested sequences (which is a list-or-tuple of lists-or-tuples-or ndarrays with different lengths or shapes) is deprecated. If you meant to do this, you must specify 'dtype=object' when creating the ndarray.\n",
      "  text_sequences = np.array(tokenizer.texts_to_sequences(sentences))\n"
     ]
    }
   ],
   "source": [
    "text_sequences = np.array(tokenizer.texts_to_sequences(sentences))\n",
    "sequence_dict = tokenizer.word_index\n",
    "word_dict = dict((num, val) for (val, num) in sequence_dict.items())"
   ]
  },
  {
   "cell_type": "code",
   "execution_count": 126,
   "id": "1ec0e324",
   "metadata": {},
   "outputs": [],
   "source": [
    "reviews_encoded = [];\n",
    "for i,review in enumerate(review_cleans):\n",
    "    reviews_encoded.append([sequence_dict[x] for x in review]);"
   ]
  },
  {
   "cell_type": "code",
   "execution_count": 127,
   "id": "b9a2226f",
   "metadata": {},
   "outputs": [
    {
     "data": {
      "text/plain": [
       "(array([   6.,  231.,  428.,  576.,  916., 1154., 1397., 1401., 1308.,\n",
       "        1109., 1003.,  941.,  916.,  820.,  727.,  611.,  648.,  586.,\n",
       "         551.,  526.,  503.,  486.,  441.,  777.]),\n",
       " array([ 0,  1,  2,  3,  4,  5,  6,  7,  8,  9, 10, 11, 12, 13, 14, 15, 16,\n",
       "        17, 18, 19, 20, 21, 22, 23, 24]),\n",
       " <BarContainer object of 24 artists>)"
      ]
     },
     "execution_count": 127,
     "metadata": {},
     "output_type": "execute_result"
    },
    {
     "data": {
      "image/png": "[encoded data removed]",
      "text/plain": [
       "<Figure size 432x288 with 1 Axes>"
      ]
     },
     "metadata": {
      "needs_background": "light"
     },
     "output_type": "display_data"
    }
   ],
   "source": [
    "lengths = [len(x) for x in reviews_encoded]\n",
    "plt.hist(lengths, bins=range(25))"
   ]
  },
  {
   "cell_type": "code",
   "execution_count": 129,
   "id": "aaa4ee08",
   "metadata": {},
   "outputs": [],
   "source": [
    "max_cap =8;\n",
    "X = pad_sequences(reviews_encoded, maxlen=max_cap, truncating='post')\n",
    "Y = np.array([[0,1] if '0' in label else [1,0] for label in labels])"
   ]
  },
  {
   "cell_type": "code",
   "execution_count": 130,
   "id": "b0a2c040",
   "metadata": {},
   "outputs": [],
   "source": [
    "np.random.seed(1024);\n",
    "random_posits = np.arange(len(X))\n",
    "np.random.shuffle(random_posits);"
   ]
  },
  {
   "cell_type": "code",
   "execution_count": 131,
   "id": "b675b7ec",
   "metadata": {},
   "outputs": [],
   "source": [
    "X = X[random_posits];\n",
    "Y = Y[random_posits];"
   ]
  },
  {
   "cell_type": "code",
   "execution_count": 133,
   "id": "6fc1b656",
   "metadata": {},
   "outputs": [],
   "source": [
    "train_cap = int(0.85 * len(X));\n",
    "dev_cap = int(0.93 * len(X));"
   ]
  },
  {
   "cell_type": "code",
   "execution_count": 134,
   "id": "6ea99e87",
   "metadata": {},
   "outputs": [],
   "source": [
    "X_train, Y_train = X[:train_cap], Y[:train_cap]\n",
    "X_dev, Y_dev = X[train_cap:dev_cap], Y[train_cap:dev_cap]\n",
    "X_test1, Y_test1 = X[dev_cap:], Y[dev_cap:]"
   ]
  },
  {
   "cell_type": "code",
   "execution_count": 140,
   "id": "de908d88",
   "metadata": {},
   "outputs": [
    {
     "name": "stdout",
     "output_type": "stream",
     "text": [
      "Model: \"sequential_1\"\n",
      "_________________________________________________________________\n",
      " Layer (type)                Output Shape              Param #   \n",
      "=================================================================\n",
      " embedding_1 (Embedding)     (None, 8, 8)              150960    \n",
      "                                                                 \n",
      " lstm_2 (LSTM)               (None, 8, 150)            95400     \n",
      "                                                                 \n",
      " lstm_3 (LSTM)               (None, 150)               180600    \n",
      "                                                                 \n",
      " dense (Dense)               (None, 100)               15100     \n",
      "                                                                 \n",
      " dense_1 (Dense)             (None, 2)                 202       \n",
      "                                                                 \n",
      "=================================================================\n",
      "Total params: 442,262\n",
      "Trainable params: 442,262\n",
      "Non-trainable params: 0\n",
      "_________________________________________________________________\n",
      "None\n",
      "Epoch 1/5\n"
     ]
    },
    {
     "name": "stderr",
     "output_type": "stream",
     "text": [
      "C:\\Users\\mpari\\anaconda3\\lib\\site-packages\\keras\\optimizer_v2\\adam.py:105: UserWarning: The `lr` argument is deprecated, use `learning_rate` instead.\n",
      "  super(Adam, self).__init__(name, **kwargs)\n"
     ]
    },
    {
     "name": "stdout",
     "output_type": "stream",
     "text": [
      "1308/1308 [==============================] - 19s 12ms/step - loss: 0.4253 - accuracy: 0.8345 - val_loss: 0.3598 - val_accuracy: 0.8456\n",
      "Epoch 2/5\n",
      "1308/1308 [==============================] - 16s 12ms/step - loss: 0.3235 - accuracy: 0.8655 - val_loss: 0.3321 - val_accuracy: 0.8624\n",
      "Epoch 3/5\n",
      "1308/1308 [==============================] - 18s 13ms/step - loss: 0.2879 - accuracy: 0.8796 - val_loss: 0.3189 - val_accuracy: 0.8695\n",
      "Epoch 4/5\n",
      "1308/1308 [==============================] - 17s 13ms/step - loss: 0.2615 - accuracy: 0.8911 - val_loss: 0.3105 - val_accuracy: 0.8705\n",
      "Epoch 5/5\n",
      "1308/1308 [==============================] - 17s 13ms/step - loss: 0.2399 - accuracy: 0.9015 - val_loss: 0.3090 - val_accuracy: 0.8730\n"
     ]
    },
    {
     "data": {
      "text/plain": [
       "<keras.callbacks.History at 0x2c18d78a3a0>"
      ]
     },
     "execution_count": 140,
     "metadata": {},
     "output_type": "execute_result"
    }
   ],
   "source": [
    "model1 = Sequential();\n",
    "model1.add(Embedding(len(word_dict)+1, max_cap, input_length=max_cap));\n",
    "#adding a LSTM layer of dim 1--\n",
    "model1.add(LSTM(150, return_sequences=True));\n",
    "model1.add(LSTM(150, return_sequences=False));\n",
    "#adding a dense layer with activation function of relu\n",
    "model1.add(Dense(100, activation='relu', kernel_initializer='uniform'));#best 50,relu\n",
    "#adding the final output activation with activation function of softmax\n",
    "model1.add(Dense(2, activation='sigmoid', kernel_initializer='uniform'));\n",
    "print(model1.summary());\n",
    "optimizer = Adam(lr=0.0001, decay=0.0001);\n",
    "\n",
    "model1.compile(loss='binary_crossentropy', optimizer=optimizer, metrics=['accuracy'])\n",
    "# fit model and run it for 5 epochs\n",
    "model1.fit(X_train, Y_train, batch_size=16, epochs=5, validation_data=(X_dev, Y_dev))"
   ]
  },
  {
   "cell_type": "code",
   "execution_count": 141,
   "id": "a8189a1e",
   "metadata": {},
   "outputs": [
    {
     "name": "stdout",
     "output_type": "stream",
     "text": [
      "54/54 [==============================] - 0s 6ms/step - loss: 0.3121 - accuracy: 0.8718\n",
      "Test accuracy: 87.1810%\n"
     ]
    }
   ],
   "source": [
    "score = model1.evaluate(X_test1, Y_test1)\n",
    "print(\"Test accuracy: %0.4f%%\" % (score[1]*100))"
   ]
  },
  {
   "cell_type": "code",
   "execution_count": null,
   "id": "4fc34fcf",
   "metadata": {},
   "outputs": [],
   "source": []
  }
 ],
 "metadata": {
  "kernelspec": {
   "display_name": "Python 3 (ipykernel)",
   "language": "python",
   "name": "python3"
  },
  "language_info": {
   "codemirror_mode": {
    "name": "ipython",
    "version": 3
   },
   "file_extension": ".py",
   "mimetype": "text/x-python",
   "name": "python",
   "nbconvert_exporter": "python",
   "pygments_lexer": "ipython3",
   "version": "3.8.13"
  }
 },
 "nbformat": 4,
 "nbformat_minor": 5
}
